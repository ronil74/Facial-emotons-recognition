{
 "cells": [
  {
   "cell_type": "code",
   "execution_count": 2,
   "metadata": {
    "_cell_guid": "79c7e3d0-c299-4dcb-8224-4455121ee9b0",
    "_uuid": "d629ff2d2480ee46fbb7e2d37f6b5fab8052498a"
   },
   "outputs": [
    {
     "name": "stdout",
     "output_type": "stream",
     "text": [
      "2\n"
     ]
    }
   ],
   "source": [
    "import numpy as np\n",
    "import pandas as pd\n",
    "import matplotlib.pyplot as plt\n",
    "import seaborn as sns\n",
    "\n",
    "from sklearn.model_selection import train_test_split\n",
    "from sklearn.metrics import confusion_matrix\n",
    "import itertools\n",
    "\n",
    "np.random.seed(2)\n",
    "\n",
    "import keras\n",
    "from keras.preprocessing.image import ImageDataGenerator\n",
    "from keras.callbacks import ReduceLROnPlateau\n",
    "from keras.utils.np_utils import to_categorical\n",
    "from keras.models import Sequential\n",
    "import keras.optimizers as opt\n",
    "from keras.layers.convolutional import Conv2D, MaxPooling2D, SeparableConv2D\n",
    "from keras.layers.core import Dropout, Flatten, Dense\n",
    "from keras.layers.normalization import BatchNormalization\n",
    "from keras.layers import Input\n",
    "print(2)"
   ]
  },
  {
   "cell_type": "code",
   "execution_count": 3,
   "metadata": {},
   "outputs": [
    {
     "data": {
      "text/html": [
       "<div>\n",
       "<style scoped>\n",
       "    .dataframe tbody tr th:only-of-type {\n",
       "        vertical-align: middle;\n",
       "    }\n",
       "\n",
       "    .dataframe tbody tr th {\n",
       "        vertical-align: top;\n",
       "    }\n",
       "\n",
       "    .dataframe thead th {\n",
       "        text-align: right;\n",
       "    }\n",
       "</style>\n",
       "<table border=\"1\" class=\"dataframe\">\n",
       "  <thead>\n",
       "    <tr style=\"text-align: right;\">\n",
       "      <th></th>\n",
       "      <th>emotion</th>\n",
       "      <th>pixels</th>\n",
       "      <th>Usage</th>\n",
       "    </tr>\n",
       "  </thead>\n",
       "  <tbody>\n",
       "    <tr>\n",
       "      <th>0</th>\n",
       "      <td>0</td>\n",
       "      <td>70 80 82 72 58 58 60 63 54 58 60 48 89 115 121...</td>\n",
       "      <td>Training</td>\n",
       "    </tr>\n",
       "    <tr>\n",
       "      <th>1</th>\n",
       "      <td>0</td>\n",
       "      <td>151 150 147 155 148 133 111 140 170 174 182 15...</td>\n",
       "      <td>Training</td>\n",
       "    </tr>\n",
       "    <tr>\n",
       "      <th>2</th>\n",
       "      <td>2</td>\n",
       "      <td>231 212 156 164 174 138 161 173 182 200 106 38...</td>\n",
       "      <td>Training</td>\n",
       "    </tr>\n",
       "    <tr>\n",
       "      <th>3</th>\n",
       "      <td>4</td>\n",
       "      <td>24 32 36 30 32 23 19 20 30 41 21 22 32 34 21 1...</td>\n",
       "      <td>Training</td>\n",
       "    </tr>\n",
       "    <tr>\n",
       "      <th>4</th>\n",
       "      <td>6</td>\n",
       "      <td>4 0 0 0 0 0 0 0 0 0 0 0 3 15 23 28 48 50 58 84...</td>\n",
       "      <td>Training</td>\n",
       "    </tr>\n",
       "  </tbody>\n",
       "</table>\n",
       "</div>"
      ],
      "text/plain": [
       "   emotion                                             pixels     Usage\n",
       "0        0  70 80 82 72 58 58 60 63 54 58 60 48 89 115 121...  Training\n",
       "1        0  151 150 147 155 148 133 111 140 170 174 182 15...  Training\n",
       "2        2  231 212 156 164 174 138 161 173 182 200 106 38...  Training\n",
       "3        4  24 32 36 30 32 23 19 20 30 41 21 22 32 34 21 1...  Training\n",
       "4        6  4 0 0 0 0 0 0 0 0 0 0 0 3 15 23 28 48 50 58 84...  Training"
      ]
     },
     "execution_count": 3,
     "metadata": {},
     "output_type": "execute_result"
    }
   ],
   "source": [
    "data = pd.read_csv(\"fer2013.csv\")\n",
    "data.head()"
   ]
  },
  {
   "cell_type": "code",
   "execution_count": 4,
   "metadata": {},
   "outputs": [],
   "source": [
    "groups = [g for _, g in data.groupby('Usage')]\n",
    "train = groups[2]\n",
    "val = groups[1]\n",
    "test = groups[0]"
   ]
  },
  {
   "cell_type": "code",
   "execution_count": 5,
   "metadata": {},
   "outputs": [
    {
     "name": "stdout",
     "output_type": "stream",
     "text": [
      "5\n"
     ]
    }
   ],
   "source": [
    "train = train.drop(labels=['Usage'], axis=1)\n",
    "val = val.drop(labels=['Usage'], axis=1)\n",
    "test = test.drop(labels=['Usage'], axis=1)\n",
    "\n",
    "Y_train = train[\"emotion\"]\n",
    "Y_val = val[\"emotion\"]\n",
    "Y_test = test[\"emotion\"]\n",
    "#'Angry', 'Disgust', 'Fear', 'Happy', 'Sad', 'Surprise', 'Neutral'#\n",
    "\n",
    "X_train = train[\"pixels\"]\n",
    "X_val = val[\"pixels\"]\n",
    "X_test = test[\"pixels\"]\n",
    "print(5)"
   ]
  },
  {
   "cell_type": "code",
   "execution_count": 6,
   "metadata": {},
   "outputs": [],
   "source": [
    "def preprocess(X):\n",
    "    X = np.array([np.fromstring(image, np.uint8, sep=' ') for image in X])\n",
    "    X = X/255.0\n",
    "    X = X.reshape(-1, 48, 48, 1)\n",
    "    return X"
   ]
  },
  {
   "cell_type": "code",
   "execution_count": 7,
   "metadata": {},
   "outputs": [],
   "source": [
    "X_train = preprocess(X_train)\n",
    "X_val = preprocess(X_val)\n",
    "X_test = preprocess(X_test)"
   ]
  },
  {
   "cell_type": "code",
   "execution_count": 8,
   "metadata": {},
   "outputs": [
    {
     "data": {
      "text/plain": [
       "Text(0.5,1,'Counts per emotion in testing set')"
      ]
     },
     "execution_count": 8,
     "metadata": {},
     "output_type": "execute_result"
    },
    {
     "data": {
      "image/png": "[encoded data removed]",
      "text/plain": [
       "<Figure size 2160x504 with 3 Axes>"
      ]
     },
     "metadata": {
      "needs_background": "light"
     },
     "output_type": "display_data"
    }
   ],
   "source": [
    "plt.figure(figsize=(30, 7))\n",
    "\n",
    "plt.subplot(1,3,1)\n",
    "ax = sns.countplot(Y_train)\n",
    "ax.set(ylabel=\"count\", xlabel=\"emotion\")\n",
    "plt.title(\"Counts per emotion in training set\")\n",
    "\n",
    "plt.subplot(1,3,2)\n",
    "ax = sns.countplot(Y_val)\n",
    "ax.set(ylabel=\"count\", xlabel=\"emotion\")\n",
    "plt.title(\"Counts per emotion in validation set\")\n",
    "\n",
    "plt.subplot(1,3,3)\n",
    "ax = sns.countplot(Y_test)\n",
    "ax.set(ylabel=\"count\", xlabel=\"emotion\")\n",
    "plt.title(\"Counts per emotion in testing set\")"
   ]
  },
  {
   "cell_type": "code",
   "execution_count": 9,
   "metadata": {},
   "outputs": [
    {
     "name": "stdout",
     "output_type": "stream",
     "text": [
      "Is any label null in training set: False\n",
      "Is any label null in validation set: False\n",
      "Is any label null in testing set: False\n"
     ]
    }
   ],
   "source": [
    "print(\"Is any label null in training set:\", Y_train.isnull().any())\n",
    "print(\"Is any label null in validation set:\", Y_val.isnull().any())\n",
    "print(\"Is any label null in testing set:\", Y_test.isnull().any())\n",
    "\n",
    "\n",
    "Y_train = to_categorical(Y_train, num_classes=7)\n",
    "Y_val = to_categorical(Y_val, num_classes=7)\n",
    "Y_test = to_categorical(Y_test, num_classes=7)"
   ]
  },
  {
   "cell_type": "code",
   "execution_count": 10,
   "metadata": {},
   "outputs": [
    {
     "name": "stdout",
     "output_type": "stream",
     "text": [
      "5\n"
     ]
    }
   ],
   "source": [
    "model = Sequential()\n",
    "model.add(Conv2D(32, (3,3), padding=\"Same\", activation='relu', input_shape=(48,48,1)))\n",
    "model.add(BatchNormalization())\n",
    "model.add(Conv2D(32, (5,5), padding=\"Same\", activation='relu'))\n",
    "model.add(MaxPooling2D((2,2)))\n",
    "model.add(Dropout(0.5))\n",
    "model.add(Conv2D(64, (3,3), padding=\"Same\", activation='relu'))\n",
    "model.add(BatchNormalization())\n",
    "model.add(Conv2D(64, (5,5), padding=\"Same\", activation='relu'))\n",
    "model.add(MaxPooling2D((2,2))) \n",
    "model.add(Dropout(0.5))\n",
    "model.add(Conv2D(128, (3,3), padding=\"Same\", activation='relu'))\n",
    "model.add(BatchNormalization())\n",
    "model.add(Conv2D(128, (5,5), padding=\"Same\", activation='relu'))\n",
    "model.add(MaxPooling2D((2,2))) \n",
    "model.add(Dropout(0.5))\n",
    "model.add(Flatten())\n",
    "model.add(Dense(256, activation='relu'))\n",
    "model.add(Dense(7, activation='softmax'))\n",
    "print(5)"
   ]
  },
  {
   "cell_type": "code",
   "execution_count": 11,
   "metadata": {},
   "outputs": [],
   "source": [
    "optimizer = opt.Adam(lr = 0.001)\n",
    "lr_anneal = ReduceLROnPlateau(monitor = 'val_accuracy', patience=3, factor=0.2, min_lr=1e-6)"
   ]
  },
  {
   "cell_type": "code",
   "execution_count": 12,
   "metadata": {},
   "outputs": [
    {
     "name": "stdout",
     "output_type": "stream",
     "text": [
      "Model: \"sequential\"\n",
      "_________________________________________________________________\n",
      "Layer (type)                 Output Shape              Param #   \n",
      "=================================================================\n",
      "conv2d (Conv2D)              (None, 48, 48, 32)        320       \n",
      "_________________________________________________________________\n",
      "batch_normalization (BatchNo (None, 48, 48, 32)        128       \n",
      "_________________________________________________________________\n",
      "conv2d_1 (Conv2D)            (None, 48, 48, 32)        25632     \n",
      "_________________________________________________________________\n",
      "max_pooling2d (MaxPooling2D) (None, 24, 24, 32)        0         \n",
      "_________________________________________________________________\n",
      "dropout (Dropout)            (None, 24, 24, 32)        0         \n",
      "_________________________________________________________________\n",
      "conv2d_2 (Conv2D)            (None, 24, 24, 64)        18496     \n",
      "_________________________________________________________________\n",
      "batch_normalization_1 (Batch (None, 24, 24, 64)        256       \n",
      "_________________________________________________________________\n",
      "conv2d_3 (Conv2D)            (None, 24, 24, 64)        102464    \n",
      "_________________________________________________________________\n",
      "max_pooling2d_1 (MaxPooling2 (None, 12, 12, 64)        0         \n",
      "_________________________________________________________________\n",
      "dropout_1 (Dropout)          (None, 12, 12, 64)        0         \n",
      "_________________________________________________________________\n",
      "conv2d_4 (Conv2D)            (None, 12, 12, 128)       73856     \n",
      "_________________________________________________________________\n",
      "batch_normalization_2 (Batch (None, 12, 12, 128)       512       \n",
      "_________________________________________________________________\n",
      "conv2d_5 (Conv2D)            (None, 12, 12, 128)       409728    \n",
      "_________________________________________________________________\n",
      "max_pooling2d_2 (MaxPooling2 (None, 6, 6, 128)         0         \n",
      "_________________________________________________________________\n",
      "dropout_2 (Dropout)          (None, 6, 6, 128)         0         \n",
      "_________________________________________________________________\n",
      "flatten (Flatten)            (None, 4608)              0         \n",
      "_________________________________________________________________\n",
      "dense (Dense)                (None, 256)               1179904   \n",
      "_________________________________________________________________\n",
      "dense_1 (Dense)              (None, 7)                 1799      \n",
      "=================================================================\n",
      "Total params: 1,813,095\n",
      "Trainable params: 1,812,647\n",
      "Non-trainable params: 448\n",
      "_________________________________________________________________\n"
     ]
    }
   ],
   "source": [
    "model.summary()"
   ]
  },
  {
   "cell_type": "code",
   "execution_count": 27,
   "metadata": {},
   "outputs": [],
   "source": [
    "model.compile(optimizer=optimizer, loss='categorical_crossentropy', metrics=['accuracy'])"
   ]
  },
  {
   "cell_type": "code",
   "execution_count": 29,
   "metadata": {},
   "outputs": [
    {
     "name": "stdout",
     "output_type": "stream",
     "text": [
      "Epoch 1/80\n",
      "449/449 [==============================] - 427s 951ms/step - loss: 2.5777 - accuracy: 0.2457 - val_loss: 1.7122 - val_accuracy: 0.3023\n",
      "Epoch 2/80\n",
      "449/449 [==============================] - 397s 885ms/step - loss: 1.5795 - accuracy: 0.3748 - val_loss: 1.4446 - val_accuracy: 0.4344\n",
      "Epoch 3/80\n",
      "449/449 [==============================] - 395s 879ms/step - loss: 1.3966 - accuracy: 0.4534 - val_loss: 1.3317 - val_accuracy: 0.4804\n",
      "Epoch 4/80\n",
      "449/449 [==============================] - 400s 891ms/step - loss: 1.2864 - accuracy: 0.4979 - val_loss: 1.2992 - val_accuracy: 0.4974\n",
      "Epoch 5/80\n",
      "449/449 [==============================] - 395s 881ms/step - loss: 1.2472 - accuracy: 0.5134 - val_loss: 1.2324 - val_accuracy: 0.5199\n",
      "Epoch 6/80\n",
      "449/449 [==============================] - 400s 891ms/step - loss: 1.2106 - accuracy: 0.5224 - val_loss: 1.3085 - val_accuracy: 0.4937\n",
      "Epoch 7/80\n",
      "449/449 [==============================] - 398s 886ms/step - loss: 1.1840 - accuracy: 0.5449 - val_loss: 1.2479 - val_accuracy: 0.5364\n",
      "Epoch 8/80\n",
      "449/449 [==============================] - 396s 883ms/step - loss: 1.1374 - accuracy: 0.5646 - val_loss: 1.1726 - val_accuracy: 0.5561\n",
      "Epoch 9/80\n",
      "449/449 [==============================] - 396s 882ms/step - loss: 1.1018 - accuracy: 0.5791 - val_loss: 1.1571 - val_accuracy: 0.5717\n",
      "Epoch 10/80\n",
      "449/449 [==============================] - 398s 886ms/step - loss: 1.0819 - accuracy: 0.5891 - val_loss: 1.2162 - val_accuracy: 0.5475\n",
      "Epoch 11/80\n",
      "449/449 [==============================] - 382s 851ms/step - loss: 1.0559 - accuracy: 0.6010 - val_loss: 1.1219 - val_accuracy: 0.5832\n",
      "Epoch 12/80\n",
      "449/449 [==============================] - 379s 844ms/step - loss: 1.0251 - accuracy: 0.6159 - val_loss: 1.1471 - val_accuracy: 0.5913\n",
      "Epoch 13/80\n",
      "449/449 [==============================] - 376s 837ms/step - loss: 1.0077 - accuracy: 0.6200 - val_loss: 1.2505 - val_accuracy: 0.5587\n",
      "Epoch 14/80\n",
      "449/449 [==============================] - 376s 838ms/step - loss: 0.9799 - accuracy: 0.6324 - val_loss: 1.1472 - val_accuracy: 0.6021\n",
      "Epoch 15/80\n",
      "449/449 [==============================] - 383s 852ms/step - loss: 0.9685 - accuracy: 0.6373 - val_loss: 1.1206 - val_accuracy: 0.5935\n",
      "Epoch 16/80\n",
      "449/449 [==============================] - 381s 849ms/step - loss: 0.9373 - accuracy: 0.6473 - val_loss: 1.1915 - val_accuracy: 0.5913\n",
      "Epoch 17/80\n",
      "449/449 [==============================] - 380s 846ms/step - loss: 0.9354 - accuracy: 0.6481 - val_loss: 1.1375 - val_accuracy: 0.6018\n",
      "Epoch 18/80\n",
      "449/449 [==============================] - 380s 846ms/step - loss: 0.8877 - accuracy: 0.6694 - val_loss: 1.0925 - val_accuracy: 0.6183\n",
      "Epoch 19/80\n",
      "449/449 [==============================] - 383s 853ms/step - loss: 0.8258 - accuracy: 0.6900 - val_loss: 1.0865 - val_accuracy: 0.6250\n",
      "Epoch 20/80\n",
      "449/449 [==============================] - 376s 838ms/step - loss: 0.8232 - accuracy: 0.6901 - val_loss: 1.1006 - val_accuracy: 0.6216\n",
      "Epoch 21/80\n",
      "449/449 [==============================] - 377s 840ms/step - loss: 0.8162 - accuracy: 0.6920 - val_loss: 1.0995 - val_accuracy: 0.6275\n",
      "Epoch 22/80\n",
      "449/449 [==============================] - 373s 830ms/step - loss: 0.7997 - accuracy: 0.7019 - val_loss: 1.0922 - val_accuracy: 0.6308\n",
      "Epoch 23/80\n",
      "449/449 [==============================] - 376s 838ms/step - loss: 0.7927 - accuracy: 0.7029 - val_loss: 1.1031 - val_accuracy: 0.6272\n",
      "Epoch 24/80\n",
      "449/449 [==============================] - 377s 839ms/step - loss: 0.7665 - accuracy: 0.7132 - val_loss: 1.0975 - val_accuracy: 0.6328\n",
      "Epoch 25/80\n",
      "449/449 [==============================] - 379s 843ms/step - loss: 0.7655 - accuracy: 0.7113 - val_loss: 1.0961 - val_accuracy: 0.6291\n",
      "Epoch 26/80\n",
      "449/449 [==============================] - 378s 842ms/step - loss: 0.7493 - accuracy: 0.7184 - val_loss: 1.0974 - val_accuracy: 0.6328\n",
      "Epoch 27/80\n",
      "449/449 [==============================] - 379s 844ms/step - loss: 0.7335 - accuracy: 0.7277 - val_loss: 1.0932 - val_accuracy: 0.6378\n",
      "Epoch 28/80\n",
      "449/449 [==============================] - 382s 850ms/step - loss: 0.7380 - accuracy: 0.7244 - val_loss: 1.1122 - val_accuracy: 0.6350\n",
      "Epoch 29/80\n",
      "449/449 [==============================] - 378s 842ms/step - loss: 0.7331 - accuracy: 0.7254 - val_loss: 1.1056 - val_accuracy: 0.6381\n",
      "Epoch 30/80\n",
      "449/449 [==============================] - 380s 846ms/step - loss: 0.7152 - accuracy: 0.7327 - val_loss: 1.1045 - val_accuracy: 0.6342\n",
      "Epoch 31/80\n",
      "449/449 [==============================] - 394s 878ms/step - loss: 0.6979 - accuracy: 0.7395 - val_loss: 1.1019 - val_accuracy: 0.6411\n",
      "Epoch 32/80\n",
      "449/449 [==============================] - 394s 877ms/step - loss: 0.6988 - accuracy: 0.7390 - val_loss: 1.1071 - val_accuracy: 0.6383\n",
      "Epoch 33/80\n",
      "449/449 [==============================] - 392s 873ms/step - loss: 0.6904 - accuracy: 0.7382 - val_loss: 1.1362 - val_accuracy: 0.6375\n",
      "Epoch 34/80\n",
      "449/449 [==============================] - 387s 862ms/step - loss: 0.6849 - accuracy: 0.7457 - val_loss: 1.1367 - val_accuracy: 0.6425\n",
      "Epoch 35/80\n",
      "449/449 [==============================] - 397s 884ms/step - loss: 0.6701 - accuracy: 0.7473 - val_loss: 1.1215 - val_accuracy: 0.6442\n",
      "Epoch 36/80\n",
      "449/449 [==============================] - 394s 878ms/step - loss: 0.6674 - accuracy: 0.7544 - val_loss: 1.1068 - val_accuracy: 0.6456\n",
      "Epoch 37/80\n",
      "449/449 [==============================] - 390s 869ms/step - loss: 0.6601 - accuracy: 0.7522 - val_loss: 1.1332 - val_accuracy: 0.6372\n",
      "Epoch 38/80\n",
      "449/449 [==============================] - 389s 866ms/step - loss: 0.6531 - accuracy: 0.7559 - val_loss: 1.1375 - val_accuracy: 0.6392\n",
      "Epoch 39/80\n",
      "449/449 [==============================] - 386s 860ms/step - loss: 0.6400 - accuracy: 0.7587 - val_loss: 1.1432 - val_accuracy: 0.6408\n",
      "Epoch 40/80\n",
      "449/449 [==============================] - 388s 864ms/step - loss: 0.6081 - accuracy: 0.7743 - val_loss: 1.1285 - val_accuracy: 0.6456\n",
      "Epoch 41/80\n",
      "449/449 [==============================] - 381s 848ms/step - loss: 0.6181 - accuracy: 0.7708 - val_loss: 1.1394 - val_accuracy: 0.6481\n",
      "Epoch 42/80\n",
      "449/449 [==============================] - 386s 859ms/step - loss: 0.6053 - accuracy: 0.7792 - val_loss: 1.1377 - val_accuracy: 0.6512\n",
      "Epoch 43/80\n",
      "449/449 [==============================] - 379s 843ms/step - loss: 0.6076 - accuracy: 0.7759 - val_loss: 1.1362 - val_accuracy: 0.6473\n",
      "Epoch 44/80\n",
      "449/449 [==============================] - 388s 863ms/step - loss: 0.6110 - accuracy: 0.7717 - val_loss: 1.1383 - val_accuracy: 0.6486\n",
      "Epoch 45/80\n",
      "449/449 [==============================] - 392s 872ms/step - loss: 0.5954 - accuracy: 0.7782 - val_loss: 1.1428 - val_accuracy: 0.6495\n",
      "Epoch 46/80\n",
      "449/449 [==============================] - 386s 860ms/step - loss: 0.6062 - accuracy: 0.7774 - val_loss: 1.1397 - val_accuracy: 0.6481\n",
      "Epoch 47/80\n",
      "449/449 [==============================] - 380s 847ms/step - loss: 0.6037 - accuracy: 0.7790 - val_loss: 1.1401 - val_accuracy: 0.6498\n",
      "Epoch 48/80\n",
      "449/449 [==============================] - 389s 868ms/step - loss: 0.5980 - accuracy: 0.7778 - val_loss: 1.1426 - val_accuracy: 0.6489\n",
      "Epoch 49/80\n",
      "449/449 [==============================] - 398s 887ms/step - loss: 0.5963 - accuracy: 0.7781 - val_loss: 1.1407 - val_accuracy: 0.6492\n",
      "Epoch 50/80\n",
      "449/449 [==============================] - 384s 856ms/step - loss: 0.5876 - accuracy: 0.7814 - val_loss: 1.1428 - val_accuracy: 0.6495\n",
      "Epoch 51/80\n",
      "449/449 [==============================] - 387s 861ms/step - loss: 0.5911 - accuracy: 0.7776 - val_loss: 1.1427 - val_accuracy: 0.6498\n",
      "Epoch 52/80\n",
      "449/449 [==============================] - 382s 851ms/step - loss: 0.5982 - accuracy: 0.7782 - val_loss: 1.1416 - val_accuracy: 0.6492\n",
      "Epoch 53/80\n",
      "449/449 [==============================] - 386s 860ms/step - loss: 0.5777 - accuracy: 0.7818 - val_loss: 1.1436 - val_accuracy: 0.6500\n",
      "Epoch 54/80\n",
      "449/449 [==============================] - 382s 852ms/step - loss: 0.5929 - accuracy: 0.7787 - val_loss: 1.1419 - val_accuracy: 0.6503\n",
      "Epoch 55/80\n",
      "449/449 [==============================] - 378s 842ms/step - loss: 0.5821 - accuracy: 0.7834 - val_loss: 1.1432 - val_accuracy: 0.6498\n",
      "Epoch 56/80\n",
      "449/449 [==============================] - 382s 850ms/step - loss: 0.5912 - accuracy: 0.7814 - val_loss: 1.1423 - val_accuracy: 0.6506\n"
     ]
    },
    {
     "name": "stdout",
     "output_type": "stream",
     "text": [
      "Epoch 57/80\n",
      "449/449 [==============================] - 389s 866ms/step - loss: 0.5898 - accuracy: 0.7781 - val_loss: 1.1441 - val_accuracy: 0.6503\n",
      "Epoch 58/80\n",
      "449/449 [==============================] - 389s 865ms/step - loss: 0.6061 - accuracy: 0.7753 - val_loss: 1.1423 - val_accuracy: 0.6503\n",
      "Epoch 59/80\n",
      "449/449 [==============================] - 381s 849ms/step - loss: 0.5897 - accuracy: 0.7861 - val_loss: 1.1441 - val_accuracy: 0.6498\n",
      "Epoch 60/80\n",
      "449/449 [==============================] - 377s 841ms/step - loss: 0.5906 - accuracy: 0.7815 - val_loss: 1.1448 - val_accuracy: 0.6503\n",
      "Epoch 61/80\n",
      "449/449 [==============================] - 376s 837ms/step - loss: 0.6058 - accuracy: 0.7764 - val_loss: 1.1446 - val_accuracy: 0.6489\n",
      "Epoch 62/80\n",
      "449/449 [==============================] - 378s 842ms/step - loss: 0.5931 - accuracy: 0.7757 - val_loss: 1.1447 - val_accuracy: 0.6503\n",
      "Epoch 63/80\n",
      "449/449 [==============================] - 380s 846ms/step - loss: 0.5931 - accuracy: 0.7819 - val_loss: 1.1444 - val_accuracy: 0.6498\n",
      "Epoch 64/80\n",
      "449/449 [==============================] - 377s 840ms/step - loss: 0.5988 - accuracy: 0.7763 - val_loss: 1.1441 - val_accuracy: 0.6498\n",
      "Epoch 65/80\n",
      "449/449 [==============================] - 380s 846ms/step - loss: 0.5981 - accuracy: 0.7792 - val_loss: 1.1445 - val_accuracy: 0.6500\n",
      "Epoch 66/80\n",
      "449/449 [==============================] - 381s 848ms/step - loss: 0.5987 - accuracy: 0.7788 - val_loss: 1.1439 - val_accuracy: 0.6503\n",
      "Epoch 67/80\n",
      "449/449 [==============================] - 381s 850ms/step - loss: 0.5959 - accuracy: 0.7791 - val_loss: 1.1421 - val_accuracy: 0.6500\n",
      "Epoch 68/80\n",
      "449/449 [==============================] - 379s 845ms/step - loss: 0.6023 - accuracy: 0.7746 - val_loss: 1.1450 - val_accuracy: 0.6500\n",
      "Epoch 69/80\n",
      "449/449 [==============================] - 380s 847ms/step - loss: 0.5998 - accuracy: 0.7773 - val_loss: 1.1429 - val_accuracy: 0.6495\n",
      "Epoch 70/80\n",
      "449/449 [==============================] - 380s 847ms/step - loss: 0.5876 - accuracy: 0.7847 - val_loss: 1.1438 - val_accuracy: 0.6495\n",
      "Epoch 71/80\n",
      "449/449 [==============================] - 380s 846ms/step - loss: 0.5944 - accuracy: 0.7792 - val_loss: 1.1437 - val_accuracy: 0.6498\n",
      "Epoch 72/80\n",
      "449/449 [==============================] - 382s 850ms/step - loss: 0.5822 - accuracy: 0.7830 - val_loss: 1.1438 - val_accuracy: 0.6492\n",
      "Epoch 73/80\n",
      "449/449 [==============================] - 381s 849ms/step - loss: 0.5885 - accuracy: 0.7797 - val_loss: 1.1433 - val_accuracy: 0.6489\n",
      "Epoch 74/80\n",
      "449/449 [==============================] - 381s 848ms/step - loss: 0.5903 - accuracy: 0.7794 - val_loss: 1.1438 - val_accuracy: 0.6500\n",
      "Epoch 75/80\n",
      "449/449 [==============================] - 379s 843ms/step - loss: 0.5921 - accuracy: 0.7802 - val_loss: 1.1438 - val_accuracy: 0.6495\n",
      "Epoch 76/80\n",
      "449/449 [==============================] - 376s 837ms/step - loss: 0.5921 - accuracy: 0.7791 - val_loss: 1.1466 - val_accuracy: 0.6498\n",
      "Epoch 77/80\n",
      "449/449 [==============================] - 377s 840ms/step - loss: 0.5873 - accuracy: 0.7826 - val_loss: 1.1447 - val_accuracy: 0.6495\n",
      "Epoch 78/80\n",
      "449/449 [==============================] - 376s 838ms/step - loss: 0.5999 - accuracy: 0.7786 - val_loss: 1.1445 - val_accuracy: 0.6498\n",
      "Epoch 79/80\n",
      "449/449 [==============================] - 376s 837ms/step - loss: 0.5833 - accuracy: 0.7844 - val_loss: 1.1452 - val_accuracy: 0.6503\n",
      "Epoch 80/80\n",
      "449/449 [==============================] - 378s 841ms/step - loss: 0.5850 - accuracy: 0.7869 - val_loss: 1.1456 - val_accuracy: 0.6492\n"
     ]
    }
   ],
   "source": [
    "history = model.fit(X_train, Y_train, validation_data=(X_val, Y_val), epochs=80, batch_size = 64, callbacks=[lr_anneal])"
   ]
  },
  {
   "cell_type": "code",
   "execution_count": 30,
   "metadata": {},
   "outputs": [
    {
     "data": {
      "image/png": "[encoded data removed]",
      "text/plain": [
       "<Figure size 432x288 with 2 Axes>"
      ]
     },
     "metadata": {
      "needs_background": "light"
     },
     "output_type": "display_data"
    }
   ],
   "source": [
    "fig, ax = plt.subplots(2,1)\n",
    "ax[0].plot(history.history['loss'], color='b', label=\"Training loss\")\n",
    "ax[0].plot(history.history['val_loss'], color='r', label=\"validation loss\",axes =ax[0])\n",
    "legend = ax[0].legend(loc='best', shadow=True)\n",
    "\n",
    "ax[1].plot(history.history['accuracy'], color='b', label=\"Training accuracy\")\n",
    "ax[1].plot(history.history['val_accuracy'], color='r',label=\"Validation accuracy\")\n",
    "legend = ax[1].legend(loc='best', shadow=True)"
   ]
  },
  {
   "cell_type": "code",
   "execution_count": 31,
   "metadata": {},
   "outputs": [
    {
     "data": {
      "image/png": "[encoded data removed]",
      "text/plain": [
       "<Figure size 432x288 with 2 Axes>"
      ]
     },
     "metadata": {
      "needs_background": "light"
     },
     "output_type": "display_data"
    }
   ],
   "source": [
    "def plot_confusion_matrix(cm, classes,\n",
    "                          normalize=False,\n",
    "                          title='Confusion matrix',\n",
    "                          cmap=plt.cm.Blues):\n",
    "  \n",
    "    plt.imshow(cm, interpolation='nearest', cmap=cmap)\n",
    "    plt.title(title)\n",
    "    plt.colorbar()\n",
    "    tick_marks = np.arange(len(classes))\n",
    "    plt.xticks(tick_marks, classes, rotation=45)\n",
    "    plt.yticks(tick_marks, classes)\n",
    "    \n",
    "    \n",
    "    if normalize:\n",
    "        cm = cm.astype('float') / cm.sum(axis=1)[:, np.newaxis]\n",
    "\n",
    "    thresh = cm.max() / 2.\n",
    "    for i, j in itertools.product(range(cm.shape[0]), range(cm.shape[1])):\n",
    "        plt.text(j, i, cm[i, j],\n",
    "                 horizontalalignment=\"center\",\n",
    "                 color=\"white\" if cm[i, j] > thresh else \"black\")\n",
    "\n",
    "    plt.tight_layout()\n",
    "    plt.ylabel('True label')\n",
    "    plt.xlabel('Predicted label')\n",
    "\n",
    "# Predict the values from the validation dataset\n",
    "Y_pred = model.predict(X_val)\n",
    "# Convert predictions classes to one hot vectors \n",
    "Y_pred_classes = np.argmax(Y_pred,axis = 1) \n",
    "# Convert validation observations to one hot vectors\n",
    "Y_true = np.argmax(Y_val,axis = 1) \n",
    "# compute the confusion matrix\n",
    "confusion_mtx = confusion_matrix(Y_true, Y_pred_classes) \n",
    "# plot the confusion matrix\n",
    "plot_confusion_matrix(confusion_mtx, classes = range(10)) "
   ]
  },
  {
   "cell_type": "code",
   "execution_count": 33,
   "metadata": {},
   "outputs": [
    {
     "name": "stdout",
     "output_type": "stream",
     "text": [
      "36/36 [==============================] - 7s 203ms/step - loss: 1.1096 - accuracy: 0.6587\n",
      "Test score: 1.1095701456069946\n",
      "Test accuracy: 0.6586793065071106\n"
     ]
    }
   ],
   "source": [
    "score, acc = model.evaluate(X_test, Y_test, batch_size=100)\n",
    "print('Test score:', score)\n",
    "print(\"Test accuracy:\", acc)"
   ]
  },
  {
   "cell_type": "code",
   "execution_count": 34,
   "metadata": {},
   "outputs": [
    {
     "name": "stdout",
     "output_type": "stream",
     "text": [
      "Saved model to disk\n"
     ]
    }
   ],
   "source": [
    "model_json = model.to_json()\n",
    "with open(\"emomodel.json\", \"w\") as json_file:\n",
    "   json_file.write(model_json)\n",
    "model.save_weights(\"emomodel.h5\")\n",
    "print(\"Saved model to disk\")"
   ]
  },
  {
   "cell_type": "code",
   "execution_count": 13,
   "metadata": {},
   "outputs": [],
   "source": [
    "import os\n",
    "import cv2\n",
    "import numpy as np\n",
    "from keras.models import model_from_json\n",
    "from keras.preprocessing import image"
   ]
  },
  {
   "cell_type": "code",
   "execution_count": 14,
   "metadata": {},
   "outputs": [
    {
     "name": "stdout",
     "output_type": "stream",
     "text": [
      "5\n"
     ]
    }
   ],
   "source": [
    "model = model_from_json(open(\"emomodel.json\", \"r\").read())\n",
    "model.load_weights('emomodel.h5')\n",
    "face_haar_cascade = cv2.CascadeClassifier(r'F:\\ronil be project\\project\\facial emotion\\haarcascade_frontalface_default.xml')\n",
    "print(5)\n",
    "model.save(\"emomodel.h5\")"
   ]
  },
  {
   "cell_type": "code",
   "execution_count": 15,
   "metadata": {},
   "outputs": [
    {
     "name": "stdout",
     "output_type": "stream",
     "text": [
      "5\n",
      "WARNING:tensorflow:No training configuration found in the save file, so the model was *not* compiled. Compile it manually.\n"
     ]
    }
   ],
   "source": [
    "from keras.models import load_model\n",
    "from time import sleep\n",
    "from keras.preprocessing.image import img_to_array\n",
    "from keras.preprocessing import image\n",
    "import cv2\n",
    "import numpy as np\n",
    "import os\n",
    "print(5)\n",
    "classifier =load_model('emomodel.h5')"
   ]
  },
  {
   "cell_type": "code",
   "execution_count": null,
   "metadata": {},
   "outputs": [],
   "source": [
    "class_labels = ['angry', 'disgust', 'fear', 'happy', 'sad', 'surprise', 'neutral']\n",
    "cap=cv2.VideoCapture(0)\n",
    "\n",
    "while True:\n",
    "    ret, image = cap.read()\n",
    "\n",
    "    converted_image= cv2.cvtColor(image, cv2.COLOR_BGR2GRAY)\n",
    "\n",
    "\n",
    "    faces_detected = face_haar_cascade.detectMultiScale(converted_image)\n",
    "    for (x,y,w,h) in faces_detected:\n",
    "        cv2.rectangle(image,(x,y),(x+w,y+h),(255,0,0),2)\n",
    "        roi_gray = converted_image[y:y+h,x:x+w]\n",
    "        roi_gray = cv2.resize(roi_gray,(48,48),interpolation=cv2.INTER_AREA)\n",
    "    # rect,face,image = face_detector(frame)\n",
    "\n",
    "\n",
    "        if np.sum([roi_gray])!=0:\n",
    "            roi = roi_gray.astype('float')/255.0\n",
    "            roi = img_to_array(roi)\n",
    "            roi = np.expand_dims(roi,axis=0)\n",
    "\n",
    "        # make a prediction on the ROI, then lookup the class\n",
    "\n",
    "            preds = classifier.predict(roi)[0]\n",
    "            label=class_labels[preds.argmax()]\n",
    "            label_position = (x,y)\n",
    "            cv2.putText(image,label,label_position,cv2.FONT_HERSHEY_SIMPLEX,2,(0,255,0),3)\n",
    "        else:\n",
    "            cv2.putText(image,'No Face Found',(20,60),cv2.FONT_HERSHEY_SIMPLEX,2,(0,255,0),3)\n",
    "    cv2.imshow('Emotion Detector',image)\n",
    "    if cv2.waitKey(1) & 0xFF == ord('q'):\n",
    "        break\n",
    "\n",
    "cap.release()\n",
    "cv2.destroyAllWindows"
   ]
  },
  {
   "cell_type": "code",
   "execution_count": null,
   "metadata": {},
   "outputs": [],
   "source": [
    "cap.release()\n",
    "cv2.destroyAllWindows"
   ]
  },
  {
   "cell_type": "code",
   "execution_count": null,
   "metadata": {},
   "outputs": [],
   "source": []
  }
 ],
 "metadata": {
  "kernelspec": {
   "display_name": "Python 3",
   "language": "python",
   "name": "python3"
  },
  "language_info": {
   "codemirror_mode": {
    "name": "ipython",
    "version": 3
   },
   "file_extension": ".py",
   "mimetype": "text/x-python",
   "name": "python",
   "nbconvert_exporter": "python",
   "pygments_lexer": "ipython3",
   "version": "3.7.0"
  }
 },
 "nbformat": 4,
 "nbformat_minor": 4
}
