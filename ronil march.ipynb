{
 "cells": [
  {
   "cell_type": "code",
   "execution_count": 1,
   "metadata": {},
   "outputs": [
    {
     "name": "stdout",
     "output_type": "stream",
     "text": [
      "Model: \"vgg19\"\n",
      "_________________________________________________________________\n",
      "Layer (type)                 Output Shape              Param #   \n",
      "=================================================================\n",
      "input_1 (InputLayer)         [(None, 224, 224, 3)]     0         \n",
      "_________________________________________________________________\n",
      "block1_conv1 (Conv2D)        (None, 224, 224, 64)      1792      \n",
      "_________________________________________________________________\n",
      "block1_conv2 (Conv2D)        (None, 224, 224, 64)      36928     \n",
      "_________________________________________________________________\n",
      "block1_pool (MaxPooling2D)   (None, 112, 112, 64)      0         \n",
      "_________________________________________________________________\n",
      "block2_conv1 (Conv2D)        (None, 112, 112, 128)     73856     \n",
      "_________________________________________________________________\n",
      "block2_conv2 (Conv2D)        (None, 112, 112, 128)     147584    \n",
      "_________________________________________________________________\n",
      "block2_pool (MaxPooling2D)   (None, 56, 56, 128)       0         \n",
      "_________________________________________________________________\n",
      "block3_conv1 (Conv2D)        (None, 56, 56, 256)       295168    \n",
      "_________________________________________________________________\n",
      "block3_conv2 (Conv2D)        (None, 56, 56, 256)       590080    \n",
      "_________________________________________________________________\n",
      "block3_conv3 (Conv2D)        (None, 56, 56, 256)       590080    \n",
      "_________________________________________________________________\n",
      "block3_conv4 (Conv2D)        (None, 56, 56, 256)       590080    \n",
      "_________________________________________________________________\n",
      "block3_pool (MaxPooling2D)   (None, 28, 28, 256)       0         \n",
      "_________________________________________________________________\n",
      "block4_conv1 (Conv2D)        (None, 28, 28, 512)       1180160   \n",
      "_________________________________________________________________\n",
      "block4_conv2 (Conv2D)        (None, 28, 28, 512)       2359808   \n",
      "_________________________________________________________________\n",
      "block4_conv3 (Conv2D)        (None, 28, 28, 512)       2359808   \n",
      "_________________________________________________________________\n",
      "block4_conv4 (Conv2D)        (None, 28, 28, 512)       2359808   \n",
      "_________________________________________________________________\n",
      "block4_pool (MaxPooling2D)   (None, 14, 14, 512)       0         \n",
      "_________________________________________________________________\n",
      "block5_conv1 (Conv2D)        (None, 14, 14, 512)       2359808   \n",
      "_________________________________________________________________\n",
      "block5_conv2 (Conv2D)        (None, 14, 14, 512)       2359808   \n",
      "_________________________________________________________________\n",
      "block5_conv3 (Conv2D)        (None, 14, 14, 512)       2359808   \n",
      "_________________________________________________________________\n",
      "block5_conv4 (Conv2D)        (None, 14, 14, 512)       2359808   \n",
      "_________________________________________________________________\n",
      "block5_pool (MaxPooling2D)   (None, 7, 7, 512)         0         \n",
      "_________________________________________________________________\n",
      "flatten (Flatten)            (None, 25088)             0         \n",
      "_________________________________________________________________\n",
      "fc1 (Dense)                  (None, 4096)              102764544 \n",
      "_________________________________________________________________\n",
      "fc2 (Dense)                  (None, 4096)              16781312  \n",
      "_________________________________________________________________\n",
      "predictions (Dense)          (None, 1000)              4097000   \n",
      "=================================================================\n",
      "Total params: 143,667,240\n",
      "Trainable params: 143,667,240\n",
      "Non-trainable params: 0\n",
      "_________________________________________________________________\n",
      "None\n"
     ]
    }
   ],
   "source": [
    "from keras.applications.vgg19 import VGG19\n",
    "model = VGG19()\n",
    "print(model.summary())"
   ]
  },
  {
   "cell_type": "code",
   "execution_count": 2,
   "metadata": {},
   "outputs": [
    {
     "name": "stdout",
     "output_type": "stream",
     "text": [
      "2\n"
     ]
    }
   ],
   "source": [
    "import pandas as pd\n",
    "import numpy as np\n",
    "from keras.models import Sequential\n",
    "from keras.layers.core import Flatten, Dense, Dropout\n",
    "from keras.layers.convolutional import Convolution2D, MaxPooling2D, ZeroPadding2D\n",
    "import keras\n",
    "import keras.utils\n",
    "from keras import utils as np_utils\n",
    "from tensorflow.keras.preprocessing.text import Tokenizer\n",
    "from keras.optimizers import SGD\n",
    "import cv2\n",
    "print(2)"
   ]
  },
  {
   "cell_type": "code",
   "execution_count": 3,
   "metadata": {},
   "outputs": [
    {
     "name": "stdout",
     "output_type": "stream",
     "text": [
      "       emotion                                             pixels        Usage\n",
      "0            0  70 80 82 72 58 58 60 63 54 58 60 48 89 115 121...     Training\n",
      "1            0  151 150 147 155 148 133 111 140 170 174 182 15...     Training\n",
      "2            2  231 212 156 164 174 138 161 173 182 200 106 38...     Training\n",
      "3            4  24 32 36 30 32 23 19 20 30 41 21 22 32 34 21 1...     Training\n",
      "4            6  4 0 0 0 0 0 0 0 0 0 0 0 3 15 23 28 48 50 58 84...     Training\n",
      "5            2  55 55 55 55 55 54 60 68 54 85 151 163 170 179 ...     Training\n",
      "6            4  20 17 19 21 25 38 42 42 46 54 56 62 63 66 82 1...     Training\n",
      "7            3  77 78 79 79 78 75 60 55 47 48 58 73 77 79 57 5...     Training\n",
      "8            3  85 84 90 121 101 102 133 153 153 169 177 189 1...     Training\n",
      "9            2  255 254 255 254 254 179 122 107 95 124 149 150...     Training\n",
      "10           0  30 24 21 23 25 25 49 67 84 103 120 125 130 139...     Training\n",
      "11           6  39 75 78 58 58 45 49 48 103 156 81 45 41 38 49...     Training\n",
      "12           6  219 213 206 202 209 217 216 215 219 218 223 23...     Training\n",
      "13           6  148 144 130 129 119 122 129 131 139 153 140 12...     Training\n",
      "14           3  4 2 13 41 56 62 67 87 95 62 65 70 80 107 127 1...     Training\n",
      "15           5  107 107 109 109 109 109 110 101 123 140 144 14...     Training\n",
      "16           3  14 14 18 28 27 22 21 30 42 61 77 86 88 95 100 ...     Training\n",
      "17           2  255 255 255 255 255 255 255 255 255 255 255 25...     Training\n",
      "18           6  134 124 167 180 197 194 203 210 204 203 209 20...     Training\n",
      "19           4  219 192 179 148 208 254 192 98 121 103 145 185...     Training\n",
      "20           4  1 1 1 1 1 1 1 1 1 1 1 1 2 2 2 2 7 12 23 45 38 ...     Training\n",
      "21           2  174 51 37 37 38 41 22 25 22 24 35 51 70 83 98 ...     Training\n",
      "22           0  123 125 124 142 209 226 234 236 231 232 235 22...     Training\n",
      "23           0  8 9 14 21 26 32 37 46 52 62 72 70 71 73 76 83 ...     Training\n",
      "24           3  252 250 246 229 182 140 98 72 53 44 67 95 95 8...     Training\n",
      "25           3  224 227 219 217 215 210 187 177 189 200 206 21...     Training\n",
      "26           5  162 200 187 180 197 198 196 192 176 152 136 11...     Training\n",
      "27           0  236 230 225 226 228 209 199 193 196 211 199 19...     Training\n",
      "28           3  210 210 210 210 211 207 147 103 68 60 47 70 12...     Training\n",
      "29           5  50 44 74 141 187 187 169 113 80 128 181 172 76...     Training\n",
      "...        ...                                                ...          ...\n",
      "35857        5  253 255 229 150 89 61 54 60 55 49 61 50 56 45 ...  PrivateTest\n",
      "35858        4  11 11 11 13 20 27 38 41 38 34 20 13 10 39 85 1...  PrivateTest\n",
      "35859        4  11 13 16 27 24 26 89 161 190 197 201 206 210 2...  PrivateTest\n",
      "35860        3  27 42 62 91 112 118 122 123 119 124 129 131 13...  PrivateTest\n",
      "35861        6  233 232 208 188 194 179 177 167 157 180 185 19...  PrivateTest\n",
      "35862        2  73 54 63 76 82 71 67 69 73 72 92 98 117 119 14...  PrivateTest\n",
      "35863        5  196 196 197 197 198 198 198 196 176 148 122 10...  PrivateTest\n",
      "35864        4  68 59 65 78 118 131 137 141 142 135 135 137 13...  PrivateTest\n",
      "35865        3  102 109 109 106 104 107 112 109 116 119 117 12...  PrivateTest\n",
      "35866        6  87 82 59 61 72 102 143 130 90 95 143 173 146 1...  PrivateTest\n",
      "35867        3  198 198 197 196 196 197 196 196 196 195 196 18...  PrivateTest\n",
      "35868        2  204 209 215 218 214 214 214 217 205 175 170 16...  PrivateTest\n",
      "35869        3  217 220 222 223 223 224 225 223 223 225 223 22...  PrivateTest\n",
      "35870        2  6 8 4 5 30 48 61 70 76 79 98 117 130 137 143 1...  PrivateTest\n",
      "35871        6  112 102 98 89 98 133 164 185 180 179 185 169 1...  PrivateTest\n",
      "35872        5  131 159 90 59 10 0 1 1 1 0 1 1 0 0 2 2 5 7 9 1...  PrivateTest\n",
      "35873        4  54 57 77 122 121 76 73 80 58 22 26 27 35 41 66...  PrivateTest\n",
      "35874        5  43 43 51 73 94 97 102 95 99 107 126 144 154 17...  PrivateTest\n",
      "35875        5  248 251 239 144 102 95 82 77 91 138 153 145 14...  PrivateTest\n",
      "35876        6  29 29 27 31 49 56 29 19 22 20 34 43 55 71 85 9...  PrivateTest\n",
      "35877        6  139 143 145 154 159 168 176 181 190 191 195 19...  PrivateTest\n",
      "35878        3  0 39 81 80 104 97 51 64 68 46 41 67 53 68 70 5...  PrivateTest\n",
      "35879        2  0 0 6 16 19 31 47 18 26 19 17 8 15 3 4 2 14 20...  PrivateTest\n",
      "35880        2  164 172 175 171 172 173 178 181 188 192 197 20...  PrivateTest\n",
      "35881        0  181 177 176 156 178 144 136 132 122 107 131 16...  PrivateTest\n",
      "35882        6  50 36 17 22 23 29 33 39 34 37 37 37 39 43 48 5...  PrivateTest\n",
      "35883        3  178 174 172 173 181 188 191 194 196 199 200 20...  PrivateTest\n",
      "35884        0  17 17 16 23 28 22 19 17 25 26 20 24 31 19 27 9...  PrivateTest\n",
      "35885        3  30 28 28 29 31 30 42 68 79 81 77 67 67 71 63 6...  PrivateTest\n",
      "35886        2  19 13 14 12 13 16 21 33 50 57 71 84 97 108 122...  PrivateTest\n",
      "\n",
      "[35887 rows x 3 columns]\n"
     ]
    }
   ],
   "source": [
    "emotion_data = pd.read_csv('fer2013.csv')\n",
    "print(emotion_data)"
   ]
  },
  {
   "cell_type": "code",
   "execution_count": 4,
   "metadata": {},
   "outputs": [
    {
     "name": "stdout",
     "output_type": "stream",
     "text": [
      "5\n"
     ]
    }
   ],
   "source": [
    "filname = 'fer2013.csv'\n",
    "print(5)\n",
    "label_map = ['Anger', 'Disgust', 'Fear', 'Happy', 'Sad', 'Surprise', 'Neutral']"
   ]
  },
  {
   "cell_type": "code",
   "execution_count": 12,
   "metadata": {},
   "outputs": [
    {
     "name": "stdout",
     "output_type": "stream",
     "text": [
      "5\n"
     ]
    }
   ],
   "source": [
    "def getData(filname):\n",
    "    # images are 48x48\n",
    "    # N = 35887\n",
    "    Y = []\n",
    "    X = []\n",
    "    first = True\n",
    "    for line in open(filname):\n",
    "        if first:\n",
    "            first = False\n",
    "        else:\n",
    "            row = line.split(',')\n",
    "            Y.append(int(row[0]))\n",
    "            X.append([int(p) for p in row[1].split()])\n",
    "\n",
    "    X, Y = np.array(X) / 255.0, np.array(Y)\n",
    "    return X, Y\n",
    "print(5)"
   ]
  },
  {
   "cell_type": "code",
   "execution_count": 13,
   "metadata": {},
   "outputs": [
    {
     "name": "stdout",
     "output_type": "stream",
     "text": [
      "5\n"
     ]
    }
   ],
   "source": [
    "X, Y = getData(filname)\n",
    "num_class = len(set(Y))\n",
    "\n",
    "print(5)"
   ]
  },
  {
   "cell_type": "code",
   "execution_count": 14,
   "metadata": {},
   "outputs": [
    {
     "name": "stdout",
     "output_type": "stream",
     "text": [
      "5\n"
     ]
    }
   ],
   "source": [
    "# To see number of training data point available for each label\n",
    "def balance_class(Y):\n",
    "    num_class = set(Y)\n",
    "    count_class = {}\n",
    "    for i in range(len(num_class)):\n",
    "        count_class[i] = sum([1 for y in Y if y == i])\n",
    "    return count_class\n",
    "\n",
    "balance = balance_class(Y)\n",
    "print(5)"
   ]
  },
  {
   "cell_type": "code",
   "execution_count": 15,
   "metadata": {},
   "outputs": [
    {
     "name": "stdout",
     "output_type": "stream",
     "text": [
      "5\n"
     ]
    }
   ],
   "source": [
    "# keras with tensorflow backend\n",
    "N, D = X.shape\n",
    "X = X.reshape(N, 48, 48, 1)\n",
    "\n",
    "# Split in  training set : validation set :  testing set in 80:10:10\n",
    "from sklearn.model_selection import train_test_split\n",
    "\n",
    "X_train, X_test, y_train, y_test = train_test_split(X, Y, test_size=0.1, random_state=0)\n",
    "y_train = (np.arange(num_class) == y_train[:, None]).astype(np.float32)\n",
    "y_test = (np.arange(num_class) == y_test[:, None]).astype(np.float32)\n",
    "print(5)"
   ]
  },
  {
   "cell_type": "code",
   "execution_count": null,
   "metadata": {},
   "outputs": [],
   "source": []
  },
  {
   "cell_type": "code",
   "execution_count": null,
   "metadata": {},
   "outputs": [],
   "source": [
    "X_train = []\n",
    "y_train = []\n",
    "X_test = []\n",
    "y_test = []\n",
    "for index, row in emotion_data.iterrows():\n",
    "    k =row['pixels'].split(\" \")\n",
    "    list(np.float_(k))\n",
    "    if row['Usage'] == 'Training':\n",
    "        X_train.append(np.array(k))\n",
    "        y_train.append(row['emotion'])\n",
    "    elif row['Usage'] == 'PublicTest':\n",
    "        X_test.append(np.array(k))\n",
    "        y_test.append(row['emotion'])\n",
    "        \n",
    "       \n",
    "\n",
    "# convert X into dataframe\n",
    "#X_pd = pd.DataFrame(data=X_train)\n",
    "# replace all instances of URC with 0 \n",
    "#X_replace = X_pd.replace('�',0, regex=True)\n",
    "# convert it back to numpy array\n",
    "#X_np = X_replace.values\n",
    "# set the object type as float\n",
    "#X_train = X_np.astype(float)\n",
    "\n",
    "\n",
    "\n",
    "print(\"ho\")"
   ]
  },
  {
   "cell_type": "code",
   "execution_count": 8,
   "metadata": {},
   "outputs": [
    {
     "data": {
      "text/plain": [
       "array([[[[0.25490196],\n",
       "         [0.21568627],\n",
       "         [0.21176471],\n",
       "         ...,\n",
       "         [0.51764706],\n",
       "         [0.45490196],\n",
       "         [0.30196078]],\n",
       "\n",
       "        [[0.23921569],\n",
       "         [0.21960784],\n",
       "         [0.20392157],\n",
       "         ...,\n",
       "         [0.50980392],\n",
       "         [0.42352941],\n",
       "         [0.26666667]],\n",
       "\n",
       "        [[0.23137255],\n",
       "         [0.20392157],\n",
       "         [0.19607843],\n",
       "         ...,\n",
       "         [0.50196078],\n",
       "         [0.38431373],\n",
       "         [0.26666667]],\n",
       "\n",
       "        ...,\n",
       "\n",
       "        [[0.41176471],\n",
       "         [0.2627451 ],\n",
       "         [0.19215686],\n",
       "         ...,\n",
       "         [0.44313725],\n",
       "         [0.8627451 ],\n",
       "         [0.52156863]],\n",
       "\n",
       "        [[0.54509804],\n",
       "         [0.38431373],\n",
       "         [0.23921569],\n",
       "         ...,\n",
       "         [0.62745098],\n",
       "         [0.94117647],\n",
       "         [0.62745098]],\n",
       "\n",
       "        [[0.54509804],\n",
       "         [0.40392157],\n",
       "         [0.21176471],\n",
       "         ...,\n",
       "         [0.49019608],\n",
       "         [0.63137255],\n",
       "         [0.61568627]]],\n",
       "\n",
       "\n",
       "       [[[0.95686275],\n",
       "         [0.8745098 ],\n",
       "         [0.81176471],\n",
       "         ...,\n",
       "         [0.45882353],\n",
       "         [0.48235294],\n",
       "         [0.50980392]],\n",
       "\n",
       "        [[0.97254902],\n",
       "         [0.89019608],\n",
       "         [0.75686275],\n",
       "         ...,\n",
       "         [0.39607843],\n",
       "         [0.41176471],\n",
       "         [0.49019608]],\n",
       "\n",
       "        [[0.9254902 ],\n",
       "         [0.81176471],\n",
       "         [0.66666667],\n",
       "         ...,\n",
       "         [0.36862745],\n",
       "         [0.34509804],\n",
       "         [0.38823529]],\n",
       "\n",
       "        ...,\n",
       "\n",
       "        [[0.98431373],\n",
       "         [0.98431373],\n",
       "         [0.98431373],\n",
       "         ...,\n",
       "         [0.75294118],\n",
       "         [0.77647059],\n",
       "         [0.8       ]],\n",
       "\n",
       "        [[0.98431373],\n",
       "         [0.98823529],\n",
       "         [0.98823529],\n",
       "         ...,\n",
       "         [0.72941176],\n",
       "         [0.75294118],\n",
       "         [0.79607843]],\n",
       "\n",
       "        [[0.98823529],\n",
       "         [0.98823529],\n",
       "         [0.98823529],\n",
       "         ...,\n",
       "         [0.67843137],\n",
       "         [0.73333333],\n",
       "         [0.82352941]]],\n",
       "\n",
       "\n",
       "       [[[0.18039216],\n",
       "         [0.19215686],\n",
       "         [0.23137255],\n",
       "         ...,\n",
       "         [0.27058824],\n",
       "         [0.65882353],\n",
       "         [1.        ]],\n",
       "\n",
       "        [[0.20392157],\n",
       "         [0.23529412],\n",
       "         [0.24313725],\n",
       "         ...,\n",
       "         [0.27058824],\n",
       "         [0.57254902],\n",
       "         [0.98431373]],\n",
       "\n",
       "        [[0.25490196],\n",
       "         [0.24705882],\n",
       "         [0.22745098],\n",
       "         ...,\n",
       "         [0.28235294],\n",
       "         [0.50980392],\n",
       "         [0.96078431]],\n",
       "\n",
       "        ...,\n",
       "\n",
       "        [[0.05882353],\n",
       "         [0.05882353],\n",
       "         [0.10588235],\n",
       "         ...,\n",
       "         [0.62745098],\n",
       "         [0.63529412],\n",
       "         [0.62745098]],\n",
       "\n",
       "        [[0.06666667],\n",
       "         [0.06666667],\n",
       "         [0.10588235],\n",
       "         ...,\n",
       "         [0.63529412],\n",
       "         [0.63529412],\n",
       "         [0.62745098]],\n",
       "\n",
       "        [[0.0745098 ],\n",
       "         [0.08235294],\n",
       "         [0.10980392],\n",
       "         ...,\n",
       "         [0.63137255],\n",
       "         [0.63529412],\n",
       "         [0.63529412]]],\n",
       "\n",
       "\n",
       "       ...,\n",
       "\n",
       "\n",
       "       [[[0.23529412],\n",
       "         [0.23921569],\n",
       "         [0.25098039],\n",
       "         ...,\n",
       "         [0.54901961],\n",
       "         [0.75294118],\n",
       "         [0.98823529]],\n",
       "\n",
       "        [[0.23529412],\n",
       "         [0.23137255],\n",
       "         [0.24705882],\n",
       "         ...,\n",
       "         [0.4745098 ],\n",
       "         [0.62745098],\n",
       "         [0.96470588]],\n",
       "\n",
       "        [[0.30980392],\n",
       "         [0.2745098 ],\n",
       "         [0.26666667],\n",
       "         ...,\n",
       "         [0.4627451 ],\n",
       "         [0.44313725],\n",
       "         [0.7254902 ]],\n",
       "\n",
       "        ...,\n",
       "\n",
       "        [[0.42352941],\n",
       "         [0.36470588],\n",
       "         [0.36470588],\n",
       "         ...,\n",
       "         [0.20784314],\n",
       "         [0.24705882],\n",
       "         [0.2       ]],\n",
       "\n",
       "        [[0.38431373],\n",
       "         [0.40784314],\n",
       "         [0.37254902],\n",
       "         ...,\n",
       "         [0.23921569],\n",
       "         [0.25098039],\n",
       "         [0.17647059]],\n",
       "\n",
       "        [[0.41960784],\n",
       "         [0.4       ],\n",
       "         [0.30196078],\n",
       "         ...,\n",
       "         [0.23921569],\n",
       "         [0.22745098],\n",
       "         [0.25490196]]],\n",
       "\n",
       "\n",
       "       [[[0.43137255],\n",
       "         [0.49019608],\n",
       "         [0.52156863],\n",
       "         ...,\n",
       "         [0.5372549 ],\n",
       "         [0.51764706],\n",
       "         [0.5372549 ]],\n",
       "\n",
       "        [[0.49019608],\n",
       "         [0.51764706],\n",
       "         [0.55294118],\n",
       "         ...,\n",
       "         [0.52156863],\n",
       "         [0.50980392],\n",
       "         [0.50980392]],\n",
       "\n",
       "        [[0.5254902 ],\n",
       "         [0.56078431],\n",
       "         [0.58431373],\n",
       "         ...,\n",
       "         [0.53333333],\n",
       "         [0.52941176],\n",
       "         [0.53333333]],\n",
       "\n",
       "        ...,\n",
       "\n",
       "        [[0.44313725],\n",
       "         [0.4       ],\n",
       "         [0.36078431],\n",
       "         ...,\n",
       "         [0.59607843],\n",
       "         [0.60784314],\n",
       "         [0.63529412]],\n",
       "\n",
       "        [[0.43529412],\n",
       "         [0.41176471],\n",
       "         [0.38039216],\n",
       "         ...,\n",
       "         [0.58431373],\n",
       "         [0.61176471],\n",
       "         [0.65882353]],\n",
       "\n",
       "        [[0.45490196],\n",
       "         [0.42352941],\n",
       "         [0.38823529],\n",
       "         ...,\n",
       "         [0.59215686],\n",
       "         [0.61960784],\n",
       "         [0.65490196]]],\n",
       "\n",
       "\n",
       "       [[[0.10588235],\n",
       "         [0.11764706],\n",
       "         [0.12941176],\n",
       "         ...,\n",
       "         [0.90588235],\n",
       "         [0.90196078],\n",
       "         [0.88235294]],\n",
       "\n",
       "        [[0.11372549],\n",
       "         [0.12941176],\n",
       "         [0.14509804],\n",
       "         ...,\n",
       "         [0.90588235],\n",
       "         [0.90196078],\n",
       "         [0.89019608]],\n",
       "\n",
       "        [[0.12156863],\n",
       "         [0.12941176],\n",
       "         [0.1372549 ],\n",
       "         ...,\n",
       "         [0.90588235],\n",
       "         [0.90196078],\n",
       "         [0.89019608]],\n",
       "\n",
       "        ...,\n",
       "\n",
       "        [[0.36862745],\n",
       "         [0.38823529],\n",
       "         [0.39215686],\n",
       "         ...,\n",
       "         [0.59607843],\n",
       "         [0.01568627],\n",
       "         [0.03921569]],\n",
       "\n",
       "        [[0.38823529],\n",
       "         [0.38823529],\n",
       "         [0.39607843],\n",
       "         ...,\n",
       "         [0.85490196],\n",
       "         [0.1254902 ],\n",
       "         [0.01568627]],\n",
       "\n",
       "        [[0.3372549 ],\n",
       "         [0.37254902],\n",
       "         [0.38823529],\n",
       "         ...,\n",
       "         [0.96470588],\n",
       "         [0.29803922],\n",
       "         [0.        ]]]])"
      ]
     },
     "execution_count": 8,
     "metadata": {},
     "output_type": "execute_result"
    }
   ],
   "source": [
    "X_train\n"
   ]
  },
  {
   "cell_type": "code",
   "execution_count": 9,
   "metadata": {
    "scrolled": true
   },
   "outputs": [
    {
     "name": "stdout",
     "output_type": "stream",
     "text": [
      "ho\n"
     ]
    }
   ],
   "source": [
    "X_train=list(np.float_(X_train))\n",
    "\n",
    "X_train = np.array(X_train)\n",
    "y_train = np.array(y_train)\n",
    "X_test = np.array(X_test)\n",
    "y_test = np.array(y_test)\n",
    "\n",
    "X_train = X_train.reshape(X_train.shape[0], 48, 48, 1)\n",
    "X_test = X_test.reshape(X_test.shape[0], 48, 48, 1)\n",
    "\n",
    "y_train = (np.arange(num_class) == y_train[:, None]).astype(np.float32)\n",
    "y_test = (np.arange(num_class) == y_test[:, None]).astype(np.float32)\n",
    "\n",
    "\n",
    "print(\"ho\")"
   ]
  },
  {
   "cell_type": "code",
   "execution_count": 16,
   "metadata": {},
   "outputs": [
    {
     "name": "stdout",
     "output_type": "stream",
     "text": [
      "ho\n"
     ]
    }
   ],
   "source": [
    "model = Sequential()\n",
    "model.add(ZeroPadding2D((1,1),input_shape=(48,48,1)))\n",
    "model.add(Convolution2D(64, 3, 3, activation='relu'))\n",
    "model.add(ZeroPadding2D((1,1)))\n",
    "model.add(Convolution2D(64, 3, 3, activation='relu'))\n",
    "model.add(MaxPooling2D((2,2), strides=(2,2),padding='same'))\n",
    "\n",
    "model.add(ZeroPadding2D((1,1)))\n",
    "model.add(Convolution2D(128, 3, 3, activation='relu'))\n",
    "model.add(ZeroPadding2D((1,1)))\n",
    "model.add(Convolution2D(128, 3, 3, activation='relu'))\n",
    "model.add(MaxPooling2D((2,2), strides=(2,2),padding='same'))\n",
    "\n",
    "model.add(ZeroPadding2D((1,1)))\n",
    "model.add(Convolution2D(256, 3, 3, activation='relu'))\n",
    "model.add(ZeroPadding2D((1,1)))\n",
    "model.add(Convolution2D(256, 3, 3, activation='relu'))\n",
    "model.add(ZeroPadding2D((1,1)))\n",
    "model.add(Convolution2D(256, 3, 3, activation='relu'))\n",
    "model.add(MaxPooling2D((2,2), strides=(2,2),padding='same'))\n",
    "\n",
    "model.add(ZeroPadding2D((1,1)))\n",
    "model.add(Convolution2D(512, 3, 3, activation='relu'))\n",
    "model.add(ZeroPadding2D((1,1)))\n",
    "model.add(Convolution2D(512, 3, 3, activation='relu'))\n",
    "model.add(ZeroPadding2D((1,1)))\n",
    "model.add(Convolution2D(512, 3, 3, activation='relu'))\n",
    "model.add(MaxPooling2D((2,2), strides=(2,2),padding='same'))\n",
    "\n",
    "\n",
    "model.add(ZeroPadding2D((1,1)))\n",
    "model.add(Convolution2D(512, 3, 3, activation='relu'))\n",
    "model.add(ZeroPadding2D((1,1)))\n",
    "model.add(Convolution2D(512, 3, 3, activation='relu'))\n",
    "model.add(ZeroPadding2D((1,1)))\n",
    "model.add(Convolution2D(512, 3, 3, activation='relu'))\n",
    "model.add(MaxPooling2D((2,2), strides=(2,2),padding='same'))\n",
    "\n",
    "model.add(Flatten())\n",
    "model.add(Dense(4096, activation='relu'))\n",
    "model.add(Dropout(0.5))\n",
    "model.add(Dense(4096, activation='relu'))\n",
    "model.add(Dropout(0.5))\n",
    "model.add(Dense(7, activation='sigmoid'))\n",
    "  \n",
    "print(\"ho\")"
   ]
  },
  {
   "cell_type": "code",
   "execution_count": 17,
   "metadata": {},
   "outputs": [
    {
     "name": "stdout",
     "output_type": "stream",
     "text": [
      "ho\n"
     ]
    }
   ],
   "source": [
    "\n",
    "model.compile(optimizer='sgd',loss='binary_crossentropy',metrics=['categorical_accuracy'])\n",
    "print(\"ho\")"
   ]
  },
  {
   "cell_type": "code",
   "execution_count": null,
   "metadata": {
    "scrolled": false
   },
   "outputs": [],
   "source": [
    "\n",
    "model.fit(X_train,y_train,batch_size=32,epochs=2,verbose=1,validation_data=(X_test,y_test))"
   ]
  },
  {
   "cell_type": "code",
   "execution_count": 19,
   "metadata": {},
   "outputs": [
    {
     "name": "stdout",
     "output_type": "stream",
     "text": [
      "113/113 [==============================] - 3s 23ms/step - loss: 0.4143 - categorical_accuracy: 0.2563\n",
      "[0.41433608531951904, 0.25633880496025085]\n"
     ]
    }
   ],
   "source": [
    "loss_and_metrics = model.evaluate(X_test,y_test)\n",
    "print(loss_and_metrics)"
   ]
  },
  {
   "cell_type": "code",
   "execution_count": 20,
   "metadata": {},
   "outputs": [
    {
     "name": "stdout",
     "output_type": "stream",
     "text": [
      "Saved model to disk\n"
     ]
    }
   ],
   "source": [
    "model_json = model.to_json()\n",
    "with open(\"model.json\", \"w\") as json_file:\n",
    "   json_file.write(model_json)\n",
    "model.save_weights(\"model.h5\")\n",
    "print(\"Saved model to disk\")"
   ]
  },
  {
   "cell_type": "code",
   "execution_count": 2,
   "metadata": {},
   "outputs": [],
   "source": [
    "import os\n",
    "import cv2\n",
    "import numpy as np\n",
    "from keras.models import model_from_json\n",
    "from keras.preprocessing import image"
   ]
  },
  {
   "cell_type": "code",
   "execution_count": 3,
   "metadata": {},
   "outputs": [
    {
     "name": "stdout",
     "output_type": "stream",
     "text": [
      "5\n"
     ]
    }
   ],
   "source": [
    "model = model_from_json(open(\"model.json\", \"r\").read())\n",
    "model.load_weights('model.h5')\n",
    "face_haar_cascade = cv2.CascadeClassifier(r'F:\\ronil be project\\project\\facial emotion\\haarcascade_frontalface_default.xml')\n",
    "print(5)\n",
    "model.save(\"model.h5\")"
   ]
  },
  {
   "cell_type": "code",
   "execution_count": 4,
   "metadata": {},
   "outputs": [
    {
     "name": "stdout",
     "output_type": "stream",
     "text": [
      "5\n",
      "WARNING:tensorflow:No training configuration found in the save file, so the model was *not* compiled. Compile it manually.\n"
     ]
    }
   ],
   "source": [
    "from keras.models import load_model\n",
    "from time import sleep\n",
    "from keras.preprocessing.image import img_to_array\n",
    "from keras.preprocessing import image\n",
    "import cv2\n",
    "import numpy as np\n",
    "import os\n",
    "print(5)\n",
    "classifier =load_model(\"model.h5\")"
   ]
  },
  {
   "cell_type": "code",
   "execution_count": null,
   "metadata": {},
   "outputs": [],
   "source": [
    "class_labels = ['angry', 'disgust', 'fear', 'happy', 'sad', 'surprise', 'neutral']\n",
    "cap=cv2.VideoCapture(0)\n",
    "\n",
    "while True:\n",
    "    ret, image = cap.read()\n",
    "\n",
    "    converted_image= cv2.cvtColor(image, cv2.COLOR_BGR2GRAY)\n",
    "\n",
    "\n",
    "    faces_detected = face_haar_cascade.detectMultiScale(converted_image)\n",
    "    for (x,y,w,h) in faces_detected:\n",
    "        cv2.rectangle(image,(x,y),(x+w,y+h),(255,0,0),2)\n",
    "        roi_gray = converted_image[y:y+h,x:x+w]\n",
    "        roi_gray = cv2.resize(roi_gray,(48,48),interpolation=cv2.INTER_AREA)\n",
    "    # rect,face,image = face_detector(frame)\n",
    "\n",
    "\n",
    "        if np.sum([roi_gray])!=0:\n",
    "            roi = roi_gray.astype('float')/255.0\n",
    "            roi = img_to_array(roi)\n",
    "            roi = np.expand_dims(roi,axis=0)\n",
    "\n",
    "        # make a prediction on the ROI, then lookup the class\n",
    "\n",
    "            preds = classifier.predict(roi)[0]\n",
    "            label=class_labels[preds.argmax()]\n",
    "            label_position = (x,y)\n",
    "            cv2.putText(image,label,label_position,cv2.FONT_HERSHEY_SIMPLEX,2,(0,255,0),3)\n",
    "        else:\n",
    "            cv2.putText(image,'No Face Found',(20,60),cv2.FONT_HERSHEY_SIMPLEX,2,(0,255,0),3)\n",
    "    cv2.imshow('Emotion Detector',image)\n",
    "    if cv2.waitKey(1) & 0xFF == ord('q'):\n",
    "        break\n",
    "\n",
    "cap.release()\n",
    "cv2.destroyAllWindows"
   ]
  },
  {
   "cell_type": "code",
   "execution_count": null,
   "metadata": {},
   "outputs": [],
   "source": []
  },
  {
   "cell_type": "code",
   "execution_count": null,
   "metadata": {},
   "outputs": [],
   "source": [
    "cap.release()\n",
    "cv2.destroyAllWindows"
   ]
  },
  {
   "cell_type": "code",
   "execution_count": null,
   "metadata": {},
   "outputs": [],
   "source": []
  }
 ],
 "metadata": {
  "kernelspec": {
   "display_name": "Python 3",
   "language": "python",
   "name": "python3"
  },
  "language_info": {
   "codemirror_mode": {
    "name": "ipython",
    "version": 3
   },
   "file_extension": ".py",
   "mimetype": "text/x-python",
   "name": "python",
   "nbconvert_exporter": "python",
   "pygments_lexer": "ipython3",
   "version": "3.7.0"
  }
 },
 "nbformat": 4,
 "nbformat_minor": 2
}
